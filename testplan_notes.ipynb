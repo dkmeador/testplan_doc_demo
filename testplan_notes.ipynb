{
 "cells": [
  {
   "cell_type": "markdown",
   "metadata": {},
   "source": [
    "# Definitions"
   ]
  },
  {
   "cell_type": "markdown",
   "metadata": {},
   "source": [
    "## Features\n",
    "The unique characteristics and behaviours of a design"
   ]
  },
  {
   "cell_type": "markdown",
   "metadata": {},
   "source": [
    "## Requirements\n",
    "\n",
    "A design's requirements are derived from its features. For example, design requirement a, b, and C are needed to satisfy feature X. Some requirements may not come from explicit design requirements. Instead they may be requirements imposed by commonly accepted design practices/specifications. So not all requirements may be derived from a designs features. Some requirements are expected of all designs. "
   ]
  },
  {
   "cell_type": "markdown",
   "metadata": {},
   "source": [
    "### Side notes on requirement specifications \n",
    "\n",
    "from https://www.plainlanguage.gov/guidelines/conversational/use-must-to-indicate-requirements/\n",
    "\n",
    "Instead of using “shall,” use:\n",
    "- “must” for an obligation\n",
    "- “must not” for a prohibition\n",
    "- “may” for a discretionary action\n",
    "- “should” for a recommendation"
   ]
  },
  {
   "cell_type": "markdown",
   "metadata": {},
   "source": [
    "## Testpoints\n",
    "It must be tested that all requirements have been met for a design. One or more testpoints must be specified to check that a requirement it met. A testpoint is typically a functional coverage point in the design or the testbench."
   ]
  },
  {
   "cell_type": "code",
   "execution_count": null,
   "metadata": {},
   "outputs": [],
   "source": []
  }
 ],
 "metadata": {
  "kernelspec": {
   "display_name": "Python 3",
   "language": "python",
   "name": "python3"
  },
  "language_info": {
   "codemirror_mode": {
    "name": "ipython",
    "version": 3
   },
   "file_extension": ".py",
   "mimetype": "text/x-python",
   "name": "python",
   "nbconvert_exporter": "python",
   "pygments_lexer": "ipython3",
   "version": "3.6.7"
  }
 },
 "nbformat": 4,
 "nbformat_minor": 2
}
