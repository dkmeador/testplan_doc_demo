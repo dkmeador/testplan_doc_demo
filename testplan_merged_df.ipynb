{
 "cells": [
  {
   "cell_type": "markdown",
   "metadata": {},
   "source": [
    "# Testplan constructed with Pandas dataframes"
   ]
  },
  {
   "cell_type": "markdown",
   "metadata": {},
   "source": [
    "## Features from the functional spec"
   ]
  },
  {
   "cell_type": "code",
   "execution_count": 1,
   "metadata": {},
   "outputs": [],
   "source": [
    "block_features = [\n",
    "    { 'feat' : 'pointer manager',\n",
    "      'desc' : 'Design must implement a pointer manager for 2048 pointers using a freelist'},\n",
    "    { 'feat' : 'Cell interface bursts',\n",
    "      'desc' : 'Cell interface must allow bursts of 2 cells per cycle for up to 1000 cycles'},\n",
    "    { 'feat' : 'Cell interface sustained rate',\n",
    "      'desc' : 'Cell interface must support average cells rate of 1.5 cells per cycle'},\n",
    "]"
   ]
  },
  {
   "cell_type": "markdown",
   "metadata": {},
   "source": [
    "## Requirements from the testplan"
   ]
  },
  {
   "cell_type": "code",
   "execution_count": 2,
   "metadata": {},
   "outputs": [],
   "source": [
    "block_requirements = [\n",
    "    { 'req' : 'pointer manager overflow',\n",
    "      'category': 'functional',\n",
    "      'desc' : 'Design must never allow pointer freelist to overflow'},\n",
    "    { 'req' : 'pointer manager underflow',\n",
    "      'category': 'functional',\n",
    "      'desc' : 'Design must never allow pointer freelist to underflow'},\n",
    "    { 'req' : 'pointer manager backpressure',\n",
    "      'category': 'functional',\n",
    "      'desc' : 'Design must backpressure the cell pipeline when pointer resources are low'},\n",
    "    { 'req' : 'pointer manager recirculate',\n",
    "      'category': 'functional',\n",
    "      'desc' : 'Design must demonstrate that all pointers can be used up and reused repeatedly'},    \n",
    "    { 'req' : 'Cell interface bursts',\n",
    "      'category': 'performance',\n",
    "      'desc' : 'Cell interface must allow bursts of 2 cells per cycle for up to 1000 cycles'},\n",
    "    { 'req' : 'Cell interface sustained rate',\n",
    "      'category': 'performance',\n",
    "      'desc' : 'Cell interface must support average cells rate of 1.5 cells per cycle'},\n",
    "]"
   ]
  },
  {
   "cell_type": "markdown",
   "metadata": {},
   "source": [
    "## Test coverage from verification"
   ]
  },
  {
   "cell_type": "code",
   "execution_count": 3,
   "metadata": {},
   "outputs": [],
   "source": [
    "coverage = [\n",
    "    {'cov' : 'ptr_mgr.ovrflw_cp1',   'grade' : 100.0},\n",
    "    {'cov' : 'ptr_mgr.undflw_cp1',   'grade' : 0.0},\n",
    "    {'cov' : 'ptr_mgr.bp_cp1',       'grade' : 65.0},\n",
    "    {'cov' : 'ptr_mgr.all_used_cp1', 'grade' : 95.0},\n",
    "    {'cov' : 'ptr_mgr.all_freed_cp1','grade' : 85.0},    \n",
    "    {'cov' : 'cell_if.burst_test1',  'grade' : 33.3},\n",
    "    {'cov' : 'cell_if.burst_test2',  'grade' : 100.0},    \n",
    "]"
   ]
  },
  {
   "cell_type": "markdown",
   "metadata": {},
   "source": [
    "# Read Data Structures into Pandas DataFrames"
   ]
  },
  {
   "cell_type": "markdown",
   "metadata": {},
   "source": [
    "The data sources are all from python dictionaries. However, the data could easily be from an external file. Pandas has methods for importing from csv, json, excel and other file types."
   ]
  },
  {
   "cell_type": "code",
   "execution_count": 4,
   "metadata": {},
   "outputs": [],
   "source": [
    "import pandas as pd"
   ]
  },
  {
   "cell_type": "markdown",
   "metadata": {},
   "source": [
    "## Create features dataframe"
   ]
  },
  {
   "cell_type": "code",
   "execution_count": 5,
   "metadata": {},
   "outputs": [
    {
     "data": {
      "text/html": [
       "<div>\n",
       "<style scoped>\n",
       "    .dataframe tbody tr th:only-of-type {\n",
       "        vertical-align: middle;\n",
       "    }\n",
       "\n",
       "    .dataframe tbody tr th {\n",
       "        vertical-align: top;\n",
       "    }\n",
       "\n",
       "    .dataframe thead th {\n",
       "        text-align: right;\n",
       "    }\n",
       "</style>\n",
       "<table border=\"1\" class=\"dataframe\">\n",
       "  <thead>\n",
       "    <tr style=\"text-align: right;\">\n",
       "      <th></th>\n",
       "      <th>desc</th>\n",
       "      <th>feat</th>\n",
       "    </tr>\n",
       "  </thead>\n",
       "  <tbody>\n",
       "    <tr>\n",
       "      <th>0</th>\n",
       "      <td>Design must implement a pointer manager for 20...</td>\n",
       "      <td>pointer manager</td>\n",
       "    </tr>\n",
       "    <tr>\n",
       "      <th>1</th>\n",
       "      <td>Cell interface must allow bursts of 2 cells pe...</td>\n",
       "      <td>Cell interface bursts</td>\n",
       "    </tr>\n",
       "    <tr>\n",
       "      <th>2</th>\n",
       "      <td>Cell interface must support average cells rate...</td>\n",
       "      <td>Cell interface sustained rate</td>\n",
       "    </tr>\n",
       "  </tbody>\n",
       "</table>\n",
       "</div>"
      ],
      "text/plain": [
       "                                                desc  \\\n",
       "0  Design must implement a pointer manager for 20...   \n",
       "1  Cell interface must allow bursts of 2 cells pe...   \n",
       "2  Cell interface must support average cells rate...   \n",
       "\n",
       "                            feat  \n",
       "0                pointer manager  \n",
       "1          Cell interface bursts  \n",
       "2  Cell interface sustained rate  "
      ]
     },
     "execution_count": 5,
     "metadata": {},
     "output_type": "execute_result"
    }
   ],
   "source": [
    "features_df = pd.DataFrame.from_dict(block_features)\n",
    "#features_df.style.set_table_styles([dict(selector=\"tr\",props=[('max-width', '500px')])])\n",
    "features_df"
   ]
  },
  {
   "cell_type": "markdown",
   "metadata": {},
   "source": [
    "## Create requirements dataframe"
   ]
  },
  {
   "cell_type": "code",
   "execution_count": 6,
   "metadata": {},
   "outputs": [
    {
     "data": {
      "text/html": [
       "<div>\n",
       "<style scoped>\n",
       "    .dataframe tbody tr th:only-of-type {\n",
       "        vertical-align: middle;\n",
       "    }\n",
       "\n",
       "    .dataframe tbody tr th {\n",
       "        vertical-align: top;\n",
       "    }\n",
       "\n",
       "    .dataframe thead th {\n",
       "        text-align: right;\n",
       "    }\n",
       "</style>\n",
       "<table border=\"1\" class=\"dataframe\">\n",
       "  <thead>\n",
       "    <tr style=\"text-align: right;\">\n",
       "      <th></th>\n",
       "      <th>category</th>\n",
       "      <th>desc</th>\n",
       "      <th>req</th>\n",
       "    </tr>\n",
       "  </thead>\n",
       "  <tbody>\n",
       "    <tr>\n",
       "      <th>0</th>\n",
       "      <td>functional</td>\n",
       "      <td>Design must never allow pointer freelist to ov...</td>\n",
       "      <td>pointer manager overflow</td>\n",
       "    </tr>\n",
       "    <tr>\n",
       "      <th>1</th>\n",
       "      <td>functional</td>\n",
       "      <td>Design must never allow pointer freelist to un...</td>\n",
       "      <td>pointer manager underflow</td>\n",
       "    </tr>\n",
       "    <tr>\n",
       "      <th>2</th>\n",
       "      <td>functional</td>\n",
       "      <td>Design must backpressure the cell pipeline whe...</td>\n",
       "      <td>pointer manager backpressure</td>\n",
       "    </tr>\n",
       "    <tr>\n",
       "      <th>3</th>\n",
       "      <td>functional</td>\n",
       "      <td>Design must demonstrate that all pointers can ...</td>\n",
       "      <td>pointer manager recirculate</td>\n",
       "    </tr>\n",
       "    <tr>\n",
       "      <th>4</th>\n",
       "      <td>performance</td>\n",
       "      <td>Cell interface must allow bursts of 2 cells pe...</td>\n",
       "      <td>Cell interface bursts</td>\n",
       "    </tr>\n",
       "    <tr>\n",
       "      <th>5</th>\n",
       "      <td>performance</td>\n",
       "      <td>Cell interface must support average cells rate...</td>\n",
       "      <td>Cell interface sustained rate</td>\n",
       "    </tr>\n",
       "  </tbody>\n",
       "</table>\n",
       "</div>"
      ],
      "text/plain": [
       "      category                                               desc  \\\n",
       "0   functional  Design must never allow pointer freelist to ov...   \n",
       "1   functional  Design must never allow pointer freelist to un...   \n",
       "2   functional  Design must backpressure the cell pipeline whe...   \n",
       "3   functional  Design must demonstrate that all pointers can ...   \n",
       "4  performance  Cell interface must allow bursts of 2 cells pe...   \n",
       "5  performance  Cell interface must support average cells rate...   \n",
       "\n",
       "                             req  \n",
       "0       pointer manager overflow  \n",
       "1      pointer manager underflow  \n",
       "2   pointer manager backpressure  \n",
       "3    pointer manager recirculate  \n",
       "4          Cell interface bursts  \n",
       "5  Cell interface sustained rate  "
      ]
     },
     "execution_count": 6,
     "metadata": {},
     "output_type": "execute_result"
    }
   ],
   "source": [
    "requirements_df = pd.DataFrame.from_dict(block_requirements)\n",
    "requirements_df"
   ]
  },
  {
   "cell_type": "markdown",
   "metadata": {},
   "source": [
    "## Create coverage dataframe"
   ]
  },
  {
   "cell_type": "code",
   "execution_count": 7,
   "metadata": {},
   "outputs": [
    {
     "data": {
      "text/html": [
       "<div>\n",
       "<style scoped>\n",
       "    .dataframe tbody tr th:only-of-type {\n",
       "        vertical-align: middle;\n",
       "    }\n",
       "\n",
       "    .dataframe tbody tr th {\n",
       "        vertical-align: top;\n",
       "    }\n",
       "\n",
       "    .dataframe thead th {\n",
       "        text-align: right;\n",
       "    }\n",
       "</style>\n",
       "<table border=\"1\" class=\"dataframe\">\n",
       "  <thead>\n",
       "    <tr style=\"text-align: right;\">\n",
       "      <th></th>\n",
       "      <th>cov</th>\n",
       "      <th>grade</th>\n",
       "    </tr>\n",
       "  </thead>\n",
       "  <tbody>\n",
       "    <tr>\n",
       "      <th>0</th>\n",
       "      <td>ptr_mgr.ovrflw_cp1</td>\n",
       "      <td>100.0</td>\n",
       "    </tr>\n",
       "    <tr>\n",
       "      <th>1</th>\n",
       "      <td>ptr_mgr.undflw_cp1</td>\n",
       "      <td>0.0</td>\n",
       "    </tr>\n",
       "    <tr>\n",
       "      <th>2</th>\n",
       "      <td>ptr_mgr.bp_cp1</td>\n",
       "      <td>65.0</td>\n",
       "    </tr>\n",
       "    <tr>\n",
       "      <th>3</th>\n",
       "      <td>ptr_mgr.all_used_cp1</td>\n",
       "      <td>95.0</td>\n",
       "    </tr>\n",
       "    <tr>\n",
       "      <th>4</th>\n",
       "      <td>ptr_mgr.all_freed_cp1</td>\n",
       "      <td>85.0</td>\n",
       "    </tr>\n",
       "    <tr>\n",
       "      <th>5</th>\n",
       "      <td>cell_if.burst_test1</td>\n",
       "      <td>33.3</td>\n",
       "    </tr>\n",
       "    <tr>\n",
       "      <th>6</th>\n",
       "      <td>cell_if.burst_test2</td>\n",
       "      <td>100.0</td>\n",
       "    </tr>\n",
       "  </tbody>\n",
       "</table>\n",
       "</div>"
      ],
      "text/plain": [
       "                     cov  grade\n",
       "0     ptr_mgr.ovrflw_cp1  100.0\n",
       "1     ptr_mgr.undflw_cp1    0.0\n",
       "2         ptr_mgr.bp_cp1   65.0\n",
       "3   ptr_mgr.all_used_cp1   95.0\n",
       "4  ptr_mgr.all_freed_cp1   85.0\n",
       "5    cell_if.burst_test1   33.3\n",
       "6    cell_if.burst_test2  100.0"
      ]
     },
     "execution_count": 7,
     "metadata": {},
     "output_type": "execute_result"
    }
   ],
   "source": [
    "coverage_df = pd.DataFrame.from_dict(coverage)\n",
    "coverage_df"
   ]
  },
  {
   "cell_type": "markdown",
   "metadata": {},
   "source": [
    "# Associations"
   ]
  },
  {
   "cell_type": "markdown",
   "metadata": {},
   "source": [
    "## Mapping of functional spec feature to requirements from the testplan"
   ]
  },
  {
   "cell_type": "code",
   "execution_count": 8,
   "metadata": {},
   "outputs": [],
   "source": [
    "block_req_map = [\n",
    "    {'feat': 'pointer manager', 'req' : 'pointer manager overflow'},\n",
    "    {'feat': 'pointer manager', 'req' : 'pointer manager underflow'},\n",
    "    {'feat': 'pointer manager', 'req' : 'pointer manager backpressure'},\n",
    "    {'feat': 'pointer manager', 'req' : 'pointer manager recirculate'},\n",
    "    {'feat': 'Cell interface bursts', 'req' : 'Cell interface bursts'}\n",
    "    \n",
    "]"
   ]
  },
  {
   "cell_type": "code",
   "execution_count": 9,
   "metadata": {},
   "outputs": [
    {
     "data": {
      "text/html": [
       "<div>\n",
       "<style scoped>\n",
       "    .dataframe tbody tr th:only-of-type {\n",
       "        vertical-align: middle;\n",
       "    }\n",
       "\n",
       "    .dataframe tbody tr th {\n",
       "        vertical-align: top;\n",
       "    }\n",
       "\n",
       "    .dataframe thead th {\n",
       "        text-align: right;\n",
       "    }\n",
       "</style>\n",
       "<table border=\"1\" class=\"dataframe\">\n",
       "  <thead>\n",
       "    <tr style=\"text-align: right;\">\n",
       "      <th></th>\n",
       "      <th>feat</th>\n",
       "      <th>req</th>\n",
       "    </tr>\n",
       "  </thead>\n",
       "  <tbody>\n",
       "    <tr>\n",
       "      <th>0</th>\n",
       "      <td>pointer manager</td>\n",
       "      <td>pointer manager overflow</td>\n",
       "    </tr>\n",
       "    <tr>\n",
       "      <th>1</th>\n",
       "      <td>pointer manager</td>\n",
       "      <td>pointer manager underflow</td>\n",
       "    </tr>\n",
       "    <tr>\n",
       "      <th>2</th>\n",
       "      <td>pointer manager</td>\n",
       "      <td>pointer manager backpressure</td>\n",
       "    </tr>\n",
       "    <tr>\n",
       "      <th>3</th>\n",
       "      <td>pointer manager</td>\n",
       "      <td>pointer manager recirculate</td>\n",
       "    </tr>\n",
       "    <tr>\n",
       "      <th>4</th>\n",
       "      <td>Cell interface bursts</td>\n",
       "      <td>Cell interface bursts</td>\n",
       "    </tr>\n",
       "  </tbody>\n",
       "</table>\n",
       "</div>"
      ],
      "text/plain": [
       "                    feat                           req\n",
       "0        pointer manager      pointer manager overflow\n",
       "1        pointer manager     pointer manager underflow\n",
       "2        pointer manager  pointer manager backpressure\n",
       "3        pointer manager   pointer manager recirculate\n",
       "4  Cell interface bursts         Cell interface bursts"
      ]
     },
     "execution_count": 9,
     "metadata": {},
     "output_type": "execute_result"
    }
   ],
   "source": [
    "f2rmap_df = pd.DataFrame.from_dict(block_req_map)\n",
    "f2rmap_df"
   ]
  },
  {
   "cell_type": "code",
   "execution_count": 10,
   "metadata": {},
   "outputs": [],
   "source": [
    "# how : {‘left’, ‘right’, ‘outer’, ‘inner’}, default ‘inner’\n",
    "merg_df = requirements_df.merge(f2rmap_df, on='req', how='outer') #, left_index=True)"
   ]
  },
  {
   "cell_type": "code",
   "execution_count": 11,
   "metadata": {},
   "outputs": [
    {
     "data": {
      "text/html": [
       "<div>\n",
       "<style scoped>\n",
       "    .dataframe tbody tr th:only-of-type {\n",
       "        vertical-align: middle;\n",
       "    }\n",
       "\n",
       "    .dataframe tbody tr th {\n",
       "        vertical-align: top;\n",
       "    }\n",
       "\n",
       "    .dataframe thead th {\n",
       "        text-align: right;\n",
       "    }\n",
       "</style>\n",
       "<table border=\"1\" class=\"dataframe\">\n",
       "  <thead>\n",
       "    <tr style=\"text-align: right;\">\n",
       "      <th></th>\n",
       "      <th></th>\n",
       "      <th>category</th>\n",
       "      <th>desc_req</th>\n",
       "    </tr>\n",
       "    <tr>\n",
       "      <th>feat</th>\n",
       "      <th>req</th>\n",
       "      <th></th>\n",
       "      <th></th>\n",
       "    </tr>\n",
       "  </thead>\n",
       "  <tbody>\n",
       "    <tr>\n",
       "      <th rowspan=\"4\" valign=\"top\">pointer manager</th>\n",
       "      <th>pointer manager overflow</th>\n",
       "      <td>functional</td>\n",
       "      <td>Design must never allow pointer freelist to ov...</td>\n",
       "    </tr>\n",
       "    <tr>\n",
       "      <th>pointer manager underflow</th>\n",
       "      <td>functional</td>\n",
       "      <td>Design must never allow pointer freelist to un...</td>\n",
       "    </tr>\n",
       "    <tr>\n",
       "      <th>pointer manager backpressure</th>\n",
       "      <td>functional</td>\n",
       "      <td>Design must backpressure the cell pipeline whe...</td>\n",
       "    </tr>\n",
       "    <tr>\n",
       "      <th>pointer manager recirculate</th>\n",
       "      <td>functional</td>\n",
       "      <td>Design must demonstrate that all pointers can ...</td>\n",
       "    </tr>\n",
       "    <tr>\n",
       "      <th>Cell interface bursts</th>\n",
       "      <th>Cell interface bursts</th>\n",
       "      <td>performance</td>\n",
       "      <td>Cell interface must allow bursts of 2 cells pe...</td>\n",
       "    </tr>\n",
       "    <tr>\n",
       "      <th>NaN</th>\n",
       "      <th>Cell interface sustained rate</th>\n",
       "      <td>performance</td>\n",
       "      <td>Cell interface must support average cells rate...</td>\n",
       "    </tr>\n",
       "    <tr>\n",
       "      <th>Cell interface sustained rate</th>\n",
       "      <th>NaN</th>\n",
       "      <td>NaN</td>\n",
       "      <td>NaN</td>\n",
       "    </tr>\n",
       "  </tbody>\n",
       "</table>\n",
       "</div>"
      ],
      "text/plain": [
       "                                                                category  \\\n",
       "feat                          req                                          \n",
       "pointer manager               pointer manager overflow        functional   \n",
       "                              pointer manager underflow       functional   \n",
       "                              pointer manager backpressure    functional   \n",
       "                              pointer manager recirculate     functional   \n",
       "Cell interface bursts         Cell interface bursts          performance   \n",
       "NaN                           Cell interface sustained rate  performance   \n",
       "Cell interface sustained rate NaN                                    NaN   \n",
       "\n",
       "                                                                                                      desc_req  \n",
       "feat                          req                                                                               \n",
       "pointer manager               pointer manager overflow       Design must never allow pointer freelist to ov...  \n",
       "                              pointer manager underflow      Design must never allow pointer freelist to un...  \n",
       "                              pointer manager backpressure   Design must backpressure the cell pipeline whe...  \n",
       "                              pointer manager recirculate    Design must demonstrate that all pointers can ...  \n",
       "Cell interface bursts         Cell interface bursts          Cell interface must allow bursts of 2 cells pe...  \n",
       "NaN                           Cell interface sustained rate  Cell interface must support average cells rate...  \n",
       "Cell interface sustained rate NaN                                                                          NaN  "
      ]
     },
     "execution_count": 11,
     "metadata": {},
     "output_type": "execute_result"
    }
   ],
   "source": [
    "merg_df = merg_df.merge(features_df, suffixes=('_req','_feat'), on='feat', how='outer')\n",
    "merg_df.set_index(['feat','req'])[['category','desc_req']]"
   ]
  },
  {
   "cell_type": "markdown",
   "metadata": {},
   "source": [
    "## Identify missing mappings"
   ]
  },
  {
   "cell_type": "code",
   "execution_count": 12,
   "metadata": {},
   "outputs": [],
   "source": [
    "missing_req_df  =  merg_df.loc[merg_df['req'].isna()]\n",
    "missing_feat_df =  merg_df.loc[merg_df['feat'].isna()]"
   ]
  },
  {
   "cell_type": "markdown",
   "metadata": {},
   "source": [
    "### Features missing supporting requirements"
   ]
  },
  {
   "cell_type": "code",
   "execution_count": 13,
   "metadata": {},
   "outputs": [
    {
     "data": {
      "text/html": [
       "<div>\n",
       "<style scoped>\n",
       "    .dataframe tbody tr th:only-of-type {\n",
       "        vertical-align: middle;\n",
       "    }\n",
       "\n",
       "    .dataframe tbody tr th {\n",
       "        vertical-align: top;\n",
       "    }\n",
       "\n",
       "    .dataframe thead th {\n",
       "        text-align: right;\n",
       "    }\n",
       "</style>\n",
       "<table border=\"1\" class=\"dataframe\">\n",
       "  <thead>\n",
       "    <tr style=\"text-align: right;\">\n",
       "      <th></th>\n",
       "      <th>category</th>\n",
       "      <th>desc_req</th>\n",
       "      <th>req</th>\n",
       "      <th>feat</th>\n",
       "      <th>desc_feat</th>\n",
       "    </tr>\n",
       "  </thead>\n",
       "  <tbody>\n",
       "    <tr>\n",
       "      <th>6</th>\n",
       "      <td>NaN</td>\n",
       "      <td>NaN</td>\n",
       "      <td>NaN</td>\n",
       "      <td>Cell interface sustained rate</td>\n",
       "      <td>Cell interface must support average cells rate...</td>\n",
       "    </tr>\n",
       "  </tbody>\n",
       "</table>\n",
       "</div>"
      ],
      "text/plain": [
       "  category desc_req  req                           feat  \\\n",
       "6      NaN      NaN  NaN  Cell interface sustained rate   \n",
       "\n",
       "                                           desc_feat  \n",
       "6  Cell interface must support average cells rate...  "
      ]
     },
     "metadata": {},
     "output_type": "display_data"
    }
   ],
   "source": [
    "display(missing_req_df)"
   ]
  },
  {
   "cell_type": "markdown",
   "metadata": {},
   "source": [
    "### Requirements missing features"
   ]
  },
  {
   "cell_type": "code",
   "execution_count": 14,
   "metadata": {},
   "outputs": [
    {
     "data": {
      "text/html": [
       "<div>\n",
       "<style scoped>\n",
       "    .dataframe tbody tr th:only-of-type {\n",
       "        vertical-align: middle;\n",
       "    }\n",
       "\n",
       "    .dataframe tbody tr th {\n",
       "        vertical-align: top;\n",
       "    }\n",
       "\n",
       "    .dataframe thead th {\n",
       "        text-align: right;\n",
       "    }\n",
       "</style>\n",
       "<table border=\"1\" class=\"dataframe\">\n",
       "  <thead>\n",
       "    <tr style=\"text-align: right;\">\n",
       "      <th></th>\n",
       "      <th>category</th>\n",
       "      <th>desc_req</th>\n",
       "      <th>req</th>\n",
       "      <th>feat</th>\n",
       "      <th>desc_feat</th>\n",
       "    </tr>\n",
       "  </thead>\n",
       "  <tbody>\n",
       "    <tr>\n",
       "      <th>5</th>\n",
       "      <td>performance</td>\n",
       "      <td>Cell interface must support average cells rate...</td>\n",
       "      <td>Cell interface sustained rate</td>\n",
       "      <td>NaN</td>\n",
       "      <td>NaN</td>\n",
       "    </tr>\n",
       "  </tbody>\n",
       "</table>\n",
       "</div>"
      ],
      "text/plain": [
       "      category                                           desc_req  \\\n",
       "5  performance  Cell interface must support average cells rate...   \n",
       "\n",
       "                             req feat desc_feat  \n",
       "5  Cell interface sustained rate  NaN       NaN  "
      ]
     },
     "metadata": {},
     "output_type": "display_data"
    }
   ],
   "source": [
    "display(missing_feat_df)"
   ]
  },
  {
   "cell_type": "markdown",
   "metadata": {},
   "source": [
    "## Mapping of requirements from the testplan to Coverage"
   ]
  },
  {
   "cell_type": "code",
   "execution_count": 15,
   "metadata": {},
   "outputs": [],
   "source": [
    "# Mapping of functional spec feature to requirements from the testplan\n",
    "cov_req_map = [\n",
    "    {'req' : 'pointer manager overflow',     'cov' : 'ptr_mgr.ovrflw_cp1'},\n",
    "    {'req' : 'pointer manager underflow',    'cov' : 'ptr_mgr.undflw_cp1'},\n",
    "    {'req' : 'pointer manager backpressure', 'cov' : 'ptr_mgr.bp_cp1'},\n",
    "    {'req' : 'pointer manager recirculate',  'cov' : 'ptr_mgr.all_used_cp1'},\n",
    "    {'req' : 'pointer manager recirculate',  'cov' : 'ptr_mgr.all_freed_cp1'},    \n",
    "    {'req' : 'Cell interface bursts',        'cov' : 'cell_if.burst_test1'},\n",
    "    {'req' : 'Cell interface bursts',        'cov' : 'cell_if.burst_test2'},\n",
    "]"
   ]
  },
  {
   "cell_type": "code",
   "execution_count": 16,
   "metadata": {},
   "outputs": [],
   "source": [
    "r2covmap_df = pd.DataFrame.from_dict(cov_req_map)"
   ]
  },
  {
   "cell_type": "code",
   "execution_count": 30,
   "metadata": {},
   "outputs": [],
   "source": [
    "all_df = merg_df.merge(r2covmap_df, on='req', how='outer') #, left_index=True)\n",
    "all_df = all_df.merge(coverage_df, on='cov', how='outer') #, left_index=True)\n",
    "all_df = all_df.fillna({'grade':0})"
   ]
  },
  {
   "cell_type": "markdown",
   "metadata": {},
   "source": [
    "# Report Coverage results"
   ]
  },
  {
   "cell_type": "markdown",
   "metadata": {},
   "source": [
    "## Summary per Test point"
   ]
  },
  {
   "cell_type": "code",
   "execution_count": 36,
   "metadata": {},
   "outputs": [
    {
     "data": {
      "text/html": [
       "<style  type=\"text/css\" >\n",
       "    #T_099dd77c_364d_11e9_9867_0242ac110004row0_col2 {\n",
       "            width:  10em;\n",
       "             height:  80%;\n",
       "            background:  linear-gradient(90deg,#3dff3d 100.0%, transparent 0%);\n",
       "        }    #T_099dd77c_364d_11e9_9867_0242ac110004row1_col2 {\n",
       "            width:  10em;\n",
       "             height:  80%;\n",
       "        }    #T_099dd77c_364d_11e9_9867_0242ac110004row2_col2 {\n",
       "            width:  10em;\n",
       "             height:  80%;\n",
       "            background:  linear-gradient(90deg,#3dff3d 65.0%, transparent 0%);\n",
       "        }    #T_099dd77c_364d_11e9_9867_0242ac110004row3_col2 {\n",
       "            width:  10em;\n",
       "             height:  80%;\n",
       "            background:  linear-gradient(90deg,#3dff3d 95.0%, transparent 0%);\n",
       "        }    #T_099dd77c_364d_11e9_9867_0242ac110004row4_col2 {\n",
       "            width:  10em;\n",
       "             height:  80%;\n",
       "            background:  linear-gradient(90deg,#3dff3d 85.0%, transparent 0%);\n",
       "        }    #T_099dd77c_364d_11e9_9867_0242ac110004row5_col2 {\n",
       "            width:  10em;\n",
       "             height:  80%;\n",
       "            background:  linear-gradient(90deg,#3dff3d 33.3%, transparent 0%);\n",
       "        }    #T_099dd77c_364d_11e9_9867_0242ac110004row6_col2 {\n",
       "            width:  10em;\n",
       "             height:  80%;\n",
       "            background:  linear-gradient(90deg,#3dff3d 100.0%, transparent 0%);\n",
       "        }    #T_099dd77c_364d_11e9_9867_0242ac110004row7_col2 {\n",
       "            width:  10em;\n",
       "             height:  80%;\n",
       "        }    #T_099dd77c_364d_11e9_9867_0242ac110004row8_col2 {\n",
       "            width:  10em;\n",
       "             height:  80%;\n",
       "        }</style>  \n",
       "<table id=\"T_099dd77c_364d_11e9_9867_0242ac110004\" > \n",
       "<thead>    <tr> \n",
       "        <th class=\"blank\" ></th> \n",
       "        <th class=\"blank\" ></th> \n",
       "        <th class=\"blank level0\" ></th> \n",
       "        <th class=\"col_heading level0 col0\" >category</th> \n",
       "        <th class=\"col_heading level0 col1\" >desc_req</th> \n",
       "        <th class=\"col_heading level0 col2\" >grade</th> \n",
       "    </tr>    <tr> \n",
       "        <th class=\"index_name level0\" >feat</th> \n",
       "        <th class=\"index_name level1\" >req</th> \n",
       "        <th class=\"index_name level2\" >cov</th> \n",
       "        <th class=\"blank\" ></th> \n",
       "        <th class=\"blank\" ></th> \n",
       "        <th class=\"blank\" ></th> \n",
       "    </tr></thead> \n",
       "<tbody>    <tr> \n",
       "        <th id=\"T_099dd77c_364d_11e9_9867_0242ac110004level0_row0\" class=\"row_heading level0 row0\" rowspan=5>pointer manager</th> \n",
       "        <th id=\"T_099dd77c_364d_11e9_9867_0242ac110004level1_row0\" class=\"row_heading level1 row0\" >pointer manager overflow</th> \n",
       "        <th id=\"T_099dd77c_364d_11e9_9867_0242ac110004level2_row0\" class=\"row_heading level2 row0\" >ptr_mgr.ovrflw_cp1</th> \n",
       "        <td id=\"T_099dd77c_364d_11e9_9867_0242ac110004row0_col0\" class=\"data row0 col0\" >functional</td> \n",
       "        <td id=\"T_099dd77c_364d_11e9_9867_0242ac110004row0_col1\" class=\"data row0 col1\" >Design must never allow pointer freelist to overflow</td> \n",
       "        <td id=\"T_099dd77c_364d_11e9_9867_0242ac110004row0_col2\" class=\"data row0 col2\" >100</td> \n",
       "    </tr>    <tr> \n",
       "        <th id=\"T_099dd77c_364d_11e9_9867_0242ac110004level1_row1\" class=\"row_heading level1 row1\" >pointer manager underflow</th> \n",
       "        <th id=\"T_099dd77c_364d_11e9_9867_0242ac110004level2_row1\" class=\"row_heading level2 row1\" >ptr_mgr.undflw_cp1</th> \n",
       "        <td id=\"T_099dd77c_364d_11e9_9867_0242ac110004row1_col0\" class=\"data row1 col0\" >functional</td> \n",
       "        <td id=\"T_099dd77c_364d_11e9_9867_0242ac110004row1_col1\" class=\"data row1 col1\" >Design must never allow pointer freelist to underflow</td> \n",
       "        <td id=\"T_099dd77c_364d_11e9_9867_0242ac110004row1_col2\" class=\"data row1 col2\" >0</td> \n",
       "    </tr>    <tr> \n",
       "        <th id=\"T_099dd77c_364d_11e9_9867_0242ac110004level1_row2\" class=\"row_heading level1 row2\" >pointer manager backpressure</th> \n",
       "        <th id=\"T_099dd77c_364d_11e9_9867_0242ac110004level2_row2\" class=\"row_heading level2 row2\" >ptr_mgr.bp_cp1</th> \n",
       "        <td id=\"T_099dd77c_364d_11e9_9867_0242ac110004row2_col0\" class=\"data row2 col0\" >functional</td> \n",
       "        <td id=\"T_099dd77c_364d_11e9_9867_0242ac110004row2_col1\" class=\"data row2 col1\" >Design must backpressure the cell pipeline when pointer resources are low</td> \n",
       "        <td id=\"T_099dd77c_364d_11e9_9867_0242ac110004row2_col2\" class=\"data row2 col2\" >65</td> \n",
       "    </tr>    <tr> \n",
       "        <th id=\"T_099dd77c_364d_11e9_9867_0242ac110004level1_row3\" class=\"row_heading level1 row3\" rowspan=2>pointer manager recirculate</th> \n",
       "        <th id=\"T_099dd77c_364d_11e9_9867_0242ac110004level2_row3\" class=\"row_heading level2 row3\" >ptr_mgr.all_used_cp1</th> \n",
       "        <td id=\"T_099dd77c_364d_11e9_9867_0242ac110004row3_col0\" class=\"data row3 col0\" >functional</td> \n",
       "        <td id=\"T_099dd77c_364d_11e9_9867_0242ac110004row3_col1\" class=\"data row3 col1\" >Design must demonstrate that all pointers can be used up and reused repeatedly</td> \n",
       "        <td id=\"T_099dd77c_364d_11e9_9867_0242ac110004row3_col2\" class=\"data row3 col2\" >95</td> \n",
       "    </tr>    <tr> \n",
       "        <th id=\"T_099dd77c_364d_11e9_9867_0242ac110004level2_row4\" class=\"row_heading level2 row4\" >ptr_mgr.all_freed_cp1</th> \n",
       "        <td id=\"T_099dd77c_364d_11e9_9867_0242ac110004row4_col0\" class=\"data row4 col0\" >functional</td> \n",
       "        <td id=\"T_099dd77c_364d_11e9_9867_0242ac110004row4_col1\" class=\"data row4 col1\" >Design must demonstrate that all pointers can be used up and reused repeatedly</td> \n",
       "        <td id=\"T_099dd77c_364d_11e9_9867_0242ac110004row4_col2\" class=\"data row4 col2\" >85</td> \n",
       "    </tr>    <tr> \n",
       "        <th id=\"T_099dd77c_364d_11e9_9867_0242ac110004level0_row5\" class=\"row_heading level0 row5\" rowspan=2>Cell interface bursts</th> \n",
       "        <th id=\"T_099dd77c_364d_11e9_9867_0242ac110004level1_row5\" class=\"row_heading level1 row5\" rowspan=2>Cell interface bursts</th> \n",
       "        <th id=\"T_099dd77c_364d_11e9_9867_0242ac110004level2_row5\" class=\"row_heading level2 row5\" >cell_if.burst_test1</th> \n",
       "        <td id=\"T_099dd77c_364d_11e9_9867_0242ac110004row5_col0\" class=\"data row5 col0\" >performance</td> \n",
       "        <td id=\"T_099dd77c_364d_11e9_9867_0242ac110004row5_col1\" class=\"data row5 col1\" >Cell interface must allow bursts of 2 cells per cycle for up to 1000 cycles</td> \n",
       "        <td id=\"T_099dd77c_364d_11e9_9867_0242ac110004row5_col2\" class=\"data row5 col2\" >33.3</td> \n",
       "    </tr>    <tr> \n",
       "        <th id=\"T_099dd77c_364d_11e9_9867_0242ac110004level2_row6\" class=\"row_heading level2 row6\" >cell_if.burst_test2</th> \n",
       "        <td id=\"T_099dd77c_364d_11e9_9867_0242ac110004row6_col0\" class=\"data row6 col0\" >performance</td> \n",
       "        <td id=\"T_099dd77c_364d_11e9_9867_0242ac110004row6_col1\" class=\"data row6 col1\" >Cell interface must allow bursts of 2 cells per cycle for up to 1000 cycles</td> \n",
       "        <td id=\"T_099dd77c_364d_11e9_9867_0242ac110004row6_col2\" class=\"data row6 col2\" >100</td> \n",
       "    </tr>    <tr> \n",
       "        <th id=\"T_099dd77c_364d_11e9_9867_0242ac110004level0_row7\" class=\"row_heading level0 row7\" >nan</th> \n",
       "        <th id=\"T_099dd77c_364d_11e9_9867_0242ac110004level1_row7\" class=\"row_heading level1 row7\" >Cell interface sustained rate</th> \n",
       "        <th id=\"T_099dd77c_364d_11e9_9867_0242ac110004level2_row7\" class=\"row_heading level2 row7\" >nan</th> \n",
       "        <td id=\"T_099dd77c_364d_11e9_9867_0242ac110004row7_col0\" class=\"data row7 col0\" >performance</td> \n",
       "        <td id=\"T_099dd77c_364d_11e9_9867_0242ac110004row7_col1\" class=\"data row7 col1\" >Cell interface must support average cells rate of 1.5 cells per cycle</td> \n",
       "        <td id=\"T_099dd77c_364d_11e9_9867_0242ac110004row7_col2\" class=\"data row7 col2\" >0</td> \n",
       "    </tr>    <tr> \n",
       "        <th id=\"T_099dd77c_364d_11e9_9867_0242ac110004level0_row8\" class=\"row_heading level0 row8\" >Cell interface sustained rate</th> \n",
       "        <th id=\"T_099dd77c_364d_11e9_9867_0242ac110004level1_row8\" class=\"row_heading level1 row8\" >nan</th> \n",
       "        <th id=\"T_099dd77c_364d_11e9_9867_0242ac110004level2_row8\" class=\"row_heading level2 row8\" >nan</th> \n",
       "        <td id=\"T_099dd77c_364d_11e9_9867_0242ac110004row8_col0\" class=\"data row8 col0\" >nan</td> \n",
       "        <td id=\"T_099dd77c_364d_11e9_9867_0242ac110004row8_col1\" class=\"data row8 col1\" >nan</td> \n",
       "        <td id=\"T_099dd77c_364d_11e9_9867_0242ac110004row8_col2\" class=\"data row8 col2\" >0</td> \n",
       "    </tr></tbody> \n",
       "</table> "
      ],
      "text/plain": [
       "<pandas.io.formats.style.Styler at 0x7f84a869f4a8>"
      ]
     },
     "execution_count": 36,
     "metadata": {},
     "output_type": "execute_result"
    }
   ],
   "source": [
    "all_df.set_index(['feat','req','cov'])[['category','desc_req','grade']].style.bar(subset=['grade'], color='#3dff3d')"
   ]
  },
  {
   "cell_type": "markdown",
   "metadata": {},
   "source": [
    "## Summary per requirement"
   ]
  },
  {
   "cell_type": "code",
   "execution_count": 35,
   "metadata": {},
   "outputs": [
    {
     "data": {
      "text/html": [
       "<style  type=\"text/css\" >\n",
       "    #T_032789b0_364d_11e9_9867_0242ac110004row0_col0 {\n",
       "            width:  10em;\n",
       "             height:  80%;\n",
       "            background:  linear-gradient(90deg,#3dff3d 66.7%, transparent 0%);\n",
       "        }    #T_032789b0_364d_11e9_9867_0242ac110004row1_col0 {\n",
       "            width:  10em;\n",
       "             height:  80%;\n",
       "            background:  linear-gradient(90deg,#3dff3d 65.0%, transparent 0%);\n",
       "        }    #T_032789b0_364d_11e9_9867_0242ac110004row2_col0 {\n",
       "            width:  10em;\n",
       "             height:  80%;\n",
       "            background:  linear-gradient(90deg,#3dff3d 100.0%, transparent 0%);\n",
       "        }    #T_032789b0_364d_11e9_9867_0242ac110004row3_col0 {\n",
       "            width:  10em;\n",
       "             height:  80%;\n",
       "            background:  linear-gradient(90deg,#3dff3d 90.0%, transparent 0%);\n",
       "        }    #T_032789b0_364d_11e9_9867_0242ac110004row4_col0 {\n",
       "            width:  10em;\n",
       "             height:  80%;\n",
       "        }</style>  \n",
       "<table id=\"T_032789b0_364d_11e9_9867_0242ac110004\" > \n",
       "<thead>    <tr> \n",
       "        <th class=\"blank\" ></th> \n",
       "        <th class=\"blank level0\" ></th> \n",
       "        <th class=\"col_heading level0 col0\" >grade</th> \n",
       "    </tr>    <tr> \n",
       "        <th class=\"index_name level0\" >feat</th> \n",
       "        <th class=\"index_name level1\" >req</th> \n",
       "        <th class=\"blank\" ></th> \n",
       "    </tr></thead> \n",
       "<tbody>    <tr> \n",
       "        <th id=\"T_032789b0_364d_11e9_9867_0242ac110004level0_row0\" class=\"row_heading level0 row0\" >Cell interface bursts</th> \n",
       "        <th id=\"T_032789b0_364d_11e9_9867_0242ac110004level1_row0\" class=\"row_heading level1 row0\" >Cell interface bursts</th> \n",
       "        <td id=\"T_032789b0_364d_11e9_9867_0242ac110004row0_col0\" class=\"data row0 col0\" >66.65</td> \n",
       "    </tr>    <tr> \n",
       "        <th id=\"T_032789b0_364d_11e9_9867_0242ac110004level0_row1\" class=\"row_heading level0 row1\" rowspan=4>pointer manager</th> \n",
       "        <th id=\"T_032789b0_364d_11e9_9867_0242ac110004level1_row1\" class=\"row_heading level1 row1\" >pointer manager backpressure</th> \n",
       "        <td id=\"T_032789b0_364d_11e9_9867_0242ac110004row1_col0\" class=\"data row1 col0\" >65</td> \n",
       "    </tr>    <tr> \n",
       "        <th id=\"T_032789b0_364d_11e9_9867_0242ac110004level1_row2\" class=\"row_heading level1 row2\" >pointer manager overflow</th> \n",
       "        <td id=\"T_032789b0_364d_11e9_9867_0242ac110004row2_col0\" class=\"data row2 col0\" >100</td> \n",
       "    </tr>    <tr> \n",
       "        <th id=\"T_032789b0_364d_11e9_9867_0242ac110004level1_row3\" class=\"row_heading level1 row3\" >pointer manager recirculate</th> \n",
       "        <td id=\"T_032789b0_364d_11e9_9867_0242ac110004row3_col0\" class=\"data row3 col0\" >90</td> \n",
       "    </tr>    <tr> \n",
       "        <th id=\"T_032789b0_364d_11e9_9867_0242ac110004level1_row4\" class=\"row_heading level1 row4\" >pointer manager underflow</th> \n",
       "        <td id=\"T_032789b0_364d_11e9_9867_0242ac110004row4_col0\" class=\"data row4 col0\" >0</td> \n",
       "    </tr></tbody> \n",
       "</table> "
      ],
      "text/plain": [
       "<pandas.io.formats.style.Styler at 0x7f84a869f588>"
      ]
     },
     "execution_count": 35,
     "metadata": {},
     "output_type": "execute_result"
    }
   ],
   "source": [
    "all_df.groupby(['feat','req']).mean().style.bar(subset=['grade'],color='#3dff3d')"
   ]
  },
  {
   "cell_type": "code",
   "execution_count": 71,
   "metadata": {},
   "outputs": [
    {
     "data": {
      "text/html": [
       "<style  type=\"text/css\" >\n",
       "    #T_30d03cec_36cd_11e9_9867_0242ac110004row0_col0 {\n",
       "            background-color:  #cfeb85;\n",
       "        }    #T_30d03cec_36cd_11e9_9867_0242ac110004row1_col0 {\n",
       "            background-color:  #d5ed88;\n",
       "        }    #T_30d03cec_36cd_11e9_9867_0242ac110004row2_col0 {\n",
       "            background-color:  #39a758;\n",
       "        }    #T_30d03cec_36cd_11e9_9867_0242ac110004row3_col0 {\n",
       "            background-color:  #6ec064;\n",
       "        }    #T_30d03cec_36cd_11e9_9867_0242ac110004row4_col0 {\n",
       "            background-color:  #e34933;\n",
       "        }</style>  \n",
       "<table id=\"T_30d03cec_36cd_11e9_9867_0242ac110004\" > \n",
       "<thead>    <tr> \n",
       "        <th class=\"blank\" ></th> \n",
       "        <th class=\"blank level0\" ></th> \n",
       "        <th class=\"col_heading level0 col0\" >grade</th> \n",
       "    </tr>    <tr> \n",
       "        <th class=\"index_name level0\" >feat</th> \n",
       "        <th class=\"index_name level1\" >req</th> \n",
       "        <th class=\"blank\" ></th> \n",
       "    </tr></thead> \n",
       "<tbody>    <tr> \n",
       "        <th id=\"T_30d03cec_36cd_11e9_9867_0242ac110004level0_row0\" class=\"row_heading level0 row0\" >Cell interface bursts</th> \n",
       "        <th id=\"T_30d03cec_36cd_11e9_9867_0242ac110004level1_row0\" class=\"row_heading level1 row0\" >Cell interface bursts</th> \n",
       "        <td id=\"T_30d03cec_36cd_11e9_9867_0242ac110004row0_col0\" class=\"data row0 col0\" >66.65</td> \n",
       "    </tr>    <tr> \n",
       "        <th id=\"T_30d03cec_36cd_11e9_9867_0242ac110004level0_row1\" class=\"row_heading level0 row1\" rowspan=4>pointer manager</th> \n",
       "        <th id=\"T_30d03cec_36cd_11e9_9867_0242ac110004level1_row1\" class=\"row_heading level1 row1\" >pointer manager backpressure</th> \n",
       "        <td id=\"T_30d03cec_36cd_11e9_9867_0242ac110004row1_col0\" class=\"data row1 col0\" >65</td> \n",
       "    </tr>    <tr> \n",
       "        <th id=\"T_30d03cec_36cd_11e9_9867_0242ac110004level1_row2\" class=\"row_heading level1 row2\" >pointer manager overflow</th> \n",
       "        <td id=\"T_30d03cec_36cd_11e9_9867_0242ac110004row2_col0\" class=\"data row2 col0\" >100</td> \n",
       "    </tr>    <tr> \n",
       "        <th id=\"T_30d03cec_36cd_11e9_9867_0242ac110004level1_row3\" class=\"row_heading level1 row3\" >pointer manager recirculate</th> \n",
       "        <td id=\"T_30d03cec_36cd_11e9_9867_0242ac110004row3_col0\" class=\"data row3 col0\" >90</td> \n",
       "    </tr>    <tr> \n",
       "        <th id=\"T_30d03cec_36cd_11e9_9867_0242ac110004level1_row4\" class=\"row_heading level1 row4\" >pointer manager underflow</th> \n",
       "        <td id=\"T_30d03cec_36cd_11e9_9867_0242ac110004row4_col0\" class=\"data row4 col0\" >0</td> \n",
       "    </tr></tbody> \n",
       "</table> "
      ],
      "text/plain": [
       "<pandas.io.formats.style.Styler at 0x7f84a85ca9e8>"
      ]
     },
     "execution_count": 71,
     "metadata": {},
     "output_type": "execute_result"
    }
   ],
   "source": [
    "all_df.groupby(['feat','req']).mean().style.background_gradient(subset=['grade'], cmap='RdYlGn',low=0.2,high=0.2)"
   ]
  },
  {
   "cell_type": "code",
   "execution_count": null,
   "metadata": {},
   "outputs": [],
   "source": []
  }
 ],
 "metadata": {
  "kernelspec": {
   "display_name": "Python 3",
   "language": "python",
   "name": "python3"
  },
  "language_info": {
   "codemirror_mode": {
    "name": "ipython",
    "version": 3
   },
   "file_extension": ".py",
   "mimetype": "text/x-python",
   "name": "python",
   "nbconvert_exporter": "python",
   "pygments_lexer": "ipython3",
   "version": "3.6.7"
  },
  "varInspector": {
   "cols": {
    "lenName": 16,
    "lenType": 16,
    "lenVar": 40
   },
   "kernels_config": {
    "python": {
     "delete_cmd_postfix": "",
     "delete_cmd_prefix": "del ",
     "library": "var_list.py",
     "varRefreshCmd": "print(var_dic_list())"
    },
    "r": {
     "delete_cmd_postfix": ") ",
     "delete_cmd_prefix": "rm(",
     "library": "var_list.r",
     "varRefreshCmd": "cat(var_dic_list()) "
    }
   },
   "types_to_exclude": [
    "module",
    "function",
    "builtin_function_or_method",
    "instance",
    "_Feature"
   ],
   "window_display": false
  }
 },
 "nbformat": 4,
 "nbformat_minor": 2
}
